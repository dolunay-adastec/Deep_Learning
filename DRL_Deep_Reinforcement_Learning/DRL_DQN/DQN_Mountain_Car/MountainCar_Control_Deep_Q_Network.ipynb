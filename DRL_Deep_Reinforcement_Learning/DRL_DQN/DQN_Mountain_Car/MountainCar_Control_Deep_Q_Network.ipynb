{
 "cells": [
  {
   "attachments": {},
   "cell_type": "markdown",
   "metadata": {},
   "source": [
    "### Mountain Car Control Problem\n",
    "##### Solved by Using Reinforcement Learning with Deep Q Network\n",
    "References:\n",
    "- https://gymnasium.farama.org/environments/classic_control/mountain_car/\n",
    "- https://github.com/Bduz/intro_pytorch/tree/main/intro_rl/dqn"
   ]
  },
  {
   "attachments": {},
   "cell_type": "markdown",
   "metadata": {},
   "source": [
    "**Description:**\n",
    "The Mountain Car MDP is a deterministic MDP that consists of a car placed stochastically at the bottom of a sinusoidal valley, with the only possible actions being the accelerations that can be applied to the car in either direction. The goal of the MDP is to strategically accelerate the car to reach the goal state on top of the right hill. There are two versions of the mountain car domain in gymnasium: one with discrete actions and one with continuous. This version is the one with discrete actions.\n",
    "This MDP first appeared in Andrew Moore’s PhD Thesis (1990)"
   ]
  },
  {
   "attachments": {},
   "cell_type": "markdown",
   "metadata": {},
   "source": [
    "### 1 - Importing Necessary Libraries"
   ]
  },
  {
   "cell_type": "code",
   "execution_count": 2,
   "metadata": {},
   "outputs": [],
   "source": [
    "# Importing Necessary Libraries\n",
    "import gym\n",
    "from gym.error import DependencyNotInstalled\n",
    "from gym.wrappers import HumanRendering\n",
    "import numpy as np\n",
    "import matplotlib.pyplot as plt\n",
    "from collections import deque\n",
    "import torch\n",
    "import random\n",
    "import sys\n",
    "import os\n",
    "import pygame\n",
    "# from pygame import gfxdraw\n",
    "# os.environ['SDL_VIDEODRIVER']='dummy'\n",
    "# pygame.display.set_mode((640,480))\n"
   ]
  },
  {
   "attachments": {},
   "cell_type": "markdown",
   "metadata": {},
   "source": [
    "### 2 - Initialize the Environment and the Agent"
   ]
  },
  {
   "cell_type": "code",
   "execution_count": 5,
   "metadata": {},
   "outputs": [
    {
     "name": "stdout",
     "output_type": "stream",
     "text": [
      "State shape:  (2,)\n",
      "Number of actions:  3\n"
     ]
    }
   ],
   "source": [
    "# Instantiate the Environment and Agent\n",
    "env = gym.make('MountainCar-v0', render_mode=\"rgb_array\")\n",
    "# env.seed(0)   # 'MountainCarEnv' object has no attribute 'seed'\n",
    "print('State shape: ', env.observation_space.shape) # (2,)\n",
    "print('Number of actions: ', env.action_space.n)    # 3, discreate"
   ]
  },
  {
   "cell_type": "code",
   "execution_count": 8,
   "metadata": {},
   "outputs": [
    {
     "data": {
      "image/png": "[encoded data removed]",
      "text/plain": [
       "<Figure size 640x480 with 1 Axes>"
      ]
     },
     "metadata": {},
     "output_type": "display_data"
    }
   ],
   "source": [
    "# Watch an Untrained Agent\n",
    "# from matplotlib.animation import FuncAnimation\n",
    "\n",
    "state = env.reset()\n",
    "img = plt.imshow(env.render())\n",
    "for j in range(1000):\n",
    "    action = env.action_space.sample()\n",
    "    img.set_data(env.render())\n",
    "    plt.axis('off')\n",
    "    #display(plt.gcf())\n",
    "    display(wait=True)\n",
    "    state, reward, done, _, _ = env.step(action)\n",
    "    if done:\n",
    "        break\n",
    "env.close()\n"
   ]
  },
  {
   "attachments": {},
   "cell_type": "markdown",
   "metadata": {},
   "source": [
    "### 3 - Train the Agent with DQN"
   ]
  },
  {
   "cell_type": "code",
   "execution_count": null,
   "metadata": {},
   "outputs": [],
   "source": [
    "# Import the Agent\n",
    "from DQN_Agent import DQN_Agent\n",
    "agent = DQN_Agent(state_size=2, action_size=3, seed=0)\n",
    "\n",
    "def dqn(n_episodes=2000, max_t=1000,eps_start=1, eps_end=0.01, eps_decay=0.995):\n",
    "    \"\"\"Deep Q-Learning.\n",
    "    Params\n",
    "    ======\n",
    "        n_episodes (int): Maximum number of training episodes. In this case, it is 2000.\n",
    "        max_t (int): Maximum number of timesteps per episode. In this case, it is 1000.\n",
    "        eps_start (float): Starting value of epsilon, for epsilon-greedy action selection. In this case, it is 1.\n",
    "        eps_end (float): Minimum value of epsilon. In this case, it is 0.01.\n",
    "        eps_decay (float): Multiplicative factor (per episode) for decreasing epsilon. In this case, it is 0.995.\n",
    "    \"\"\"\n",
    "    # Initialize the environment\n",
    "    env = gym.make('MountainCar-v0')\n",
    "    # Defining the env.step(action) outputs: next_state, reward, done, info\n",
    "    # Defining the env.step(action) outputs 2: next_state, reward, done, info, next_action\n",
    "    # Defining the env.step(action) outputs 3: next_state, reward, done, info, next_action, next_action_prob\n",
    "\n",
    "    # Set the seed # 'MountainCarEnv' object has no attribute 'seed'\n",
    "    env.reset()[0]\n",
    "    # Initialize the scores\n",
    "    scores = []\n",
    "    # Initialize the scores (last 100 episodes)\n",
    "    scores_window = deque(maxlen=100)\n",
    "    # Initialize epsilon\n",
    "    eps = eps_start\n",
    "\n",
    "    # Loop through episodes\n",
    "    for i_episode in range(1, n_episodes+1):\n",
    "        # Reset the environment\n",
    "        state = env.reset()[0]\n",
    "        # Initialize the score\n",
    "        score = 0\n",
    "        # Loop through time steps\n",
    "        for t in range(max_t):\n",
    "            # Select an action\n",
    "            action = agent.act(state, eps)\n",
    "            # Take action\n",
    "            next_state, reward, done, _, _ = env.step(action)\n",
    "            # Update the score\n",
    "            score += reward\n",
    "            # Learn\n",
    "            agent.step(state, action, reward, next_state, done)\n",
    "            # Update the state\n",
    "            state = next_state\n",
    "            # Exit loop if episode finished\n",
    "            if done:\n",
    "                break\n",
    "        # Save most recent score (last 100 episodes)\n",
    "        scores_window.append(score)\n",
    "        # Save most recent score (all episodes)\n",
    "        scores.append(score)\n",
    "        # Decrease epsilon (epsilon-greedy)\n",
    "        eps = max(eps_end, eps_decay*eps)\n",
    "        # Print episode number and average score (last 100 episodes)\n",
    "        print('\\rEpisode {}\\tAverage Score: {:.2f}'.format(i_episode, np.mean(scores_window)), end=\"\")\n",
    "        # Print episode number and average score (last 100 episodes)\n",
    "        if i_episode % 100 == 0:\n",
    "            print('\\rEpisode {}\\tAverage Score: {:.2f}'.format(i_episode, np.mean(scores_window)))\n",
    "        # Check if environment is solved (according to OpenAI Gym)\n",
    "        if np.mean(scores_window)>=200.0:\n",
    "            print('\\nEnvironment solved in {:d} episodes!\\tAverage Score: {:.2f}'.format(i_episode, np.mean(scores_window)))\n",
    "            # Save the weights\n",
    "            torch.save(agent.qnetwork_local.state_dict(), 'checkpoint.pth')\n",
    "            break\n",
    "    # return scores\n",
    "    return scores\n",
    "\n",
    "scores = dqn()\n",
    "# Plot the scores\n",
    "fig = plt.figure()\n",
    "ax = fig.add_subplot(111)\n",
    "plt.plot(np.arange(len(scores)), scores)\n",
    "plt.ylabel('Score')\n",
    "plt.xlabel('Episode #')\n",
    "plt.show()"
   ]
  }
 ],
 "metadata": {
  "kernelspec": {
   "display_name": "Python 3",
   "language": "python",
   "name": "python3"
  },
  "language_info": {
   "codemirror_mode": {
    "name": "ipython",
    "version": 3
   },
   "file_extension": ".py",
   "mimetype": "text/x-python",
   "name": "python",
   "nbconvert_exporter": "python",
   "pygments_lexer": "ipython3",
   "version": "3.10.10"
  },
  "orig_nbformat": 4
 },
 "nbformat": 4,
 "nbformat_minor": 2
}
