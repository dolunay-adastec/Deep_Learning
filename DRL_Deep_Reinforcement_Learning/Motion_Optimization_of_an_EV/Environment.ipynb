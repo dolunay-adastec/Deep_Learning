{
 "cells": [
  {
   "cell_type": "code",
   "execution_count": null,
   "metadata": {},
   "outputs": [],
   "source": [
    "# Motion Optimisation of an Electric Vehicle for Range Extension Environment\n",
    "# Author: Doğacan Dolunay Acar\n",
    "# Date: 2023-06-10\n",
    "# Version: 1.0.0\n",
    "# Description: This environment is created for motion optimisation of an electric vehicle for range extension.\n",
    "# - The environment is created for a single vehicle.\n",
    "# --------------------\n",
    "# Environment Specifications\n",
    "# Road: 1000 m; 200 m flat, 200 m uphill, 200 m flat, 200 m downhill, 200 m flat\n",
    "# Vehicle Specifications\n",
    "# Mass: 2000 kg\n",
    "# Aerodynamic Drag Coefficient: 0.3\n",
    "# Rolling Resistance Coefficient: 0.023\n",
    "# Frontal Area: 2.5 m2\n",
    "# Gear Ratio: 10 : 1\n",
    "# Wheel Radius: 0.3 m\n",
    "# Battery Specifications\n",
    "# Battery Capacity: 100 kWh\n",
    "# Motor Specifications\n",
    "# Max Speed: 5000 rpm\n",
    "# Max Torque: 500 Nm\n"
   ]
  },
  {
   "cell_type": "code",
   "execution_count": 2,
   "metadata": {},
   "outputs": [],
   "source": [
    "# Importing Libraries\n",
    "import math\n",
    "import numpy as np\n",
    "import pandas as pd\n",
    "import gym\n",
    "from gym import spaces\n",
    "import function_library\n",
    "from function_library import Road_Profiler, Road_Merger\n"
   ]
  },
  {
   "cell_type": "code",
   "execution_count": 4,
   "metadata": {},
   "outputs": [],
   "source": [
    "# Defining Environment\n",
    "class Motion_Optimization_of_an_Electric_Vehicle_for_Range_Extension_Environment(gym.Env):\n",
    "    \"\"\"This environment is created for motion optimisation of an electric vehicle for range extension.\n",
    "    - The environment is created for a single vehicle.\n",
    "    --------------------\n",
    "    Environment Specifications\n",
    "    Road: 1000 m; 200 m flat, 200 m uphill, 200 m flat, 200 m downhill, 200 m flat\n",
    "    Vehicle Specifications\n",
    "    Mass: 2000 kg\n",
    "    Aerodynamic Drag Coefficient: 0.3\n",
    "    Rolling Resistance Coefficient: 0.023\n",
    "    Frontal Area: 2.5 m2\n",
    "    Gear Ratio: 10 : 1\n",
    "    Wheel Radius: 0.3 m\n",
    "    Battery Specifications\n",
    "    Battery Capacity: 100 kWh\n",
    "    Motor Specifications\n",
    "    Max Speed: 5000 rpm\n",
    "    Max Torque: 500 Nm\n",
    "    \"\"\"\n",
    "    def __init__(self):\n",
    "        super(Motion_Optimization_of_an_Electric_Vehicle_for_Range_Extension_Environment, self).__init__()\n",
    "        \n",
    "        # Defining Action Space\n",
    "        # Action Space: 0.1, 0.2, 0.3, 0.4, 0.5, 0.6, ..., 1.0\n",
    "        self.action_space = spaces.Discrete(10)\n",
    "        \n",
    "        # Defining Observation Space\n",
    "        # Observation Space: [0, 1000] m, [0, 100] m/s, [0, 100] m/s2\n",
    "        self.observation_space = spaces.Box(low=np.array([0, 0, 0]), high=np.array([1000, 100, 100]), dtype=np.float32)\n",
    "        \n",
    "        # Defining Reward Range\n",
    "        self.reward_range = (-np.inf, np.inf)\n",
    "        \n",
    "        # Defining Initial State\n",
    "        self.state = np.array([0, 0, 0])\n",
    "        \n",
    "        # Defining Time Step\n",
    "        self.time_step = 0.1\n",
    "        \n",
    "        # Defining Road Profile\n",
    "        D1 = Road_Profiler(0,200)\n",
    "        D2 = Road_Profiler(0.04,200)\n",
    "        D3 = Road_Profiler(0,200)\n",
    "        D4 = Road_Profiler(-0.04,200)\n",
    "        D5 = Road_Profiler(0,200)\n",
    "        self.road = Road_Merger(D1,D2,D3,D4,D5)\n",
    "\n",
    "    def step(self, action):\n",
    "        \"\"\"This function takes an action and returns the next state, reward, and done.\n",
    "        \"\"\"\n",
    "        # Defining Action\n",
    "        action = (action + 1) / 10\n",
    "        \n",
    "        # Defining Next State\n",
    "        self.state = self.state + np.array([self.state[1] * self.time_step, action * self.time_step, action * self.time_step ** 2 / 2])\n",
    "        \n",
    "        # Defining Reward\n",
    "        reward = -self.state[1] * self.time_step\n",
    "        \n",
    "        # Defining Done\n",
    "        done = False\n",
    "        \n",
    "        # Returning Next State, Reward, and Done\n",
    "        return self.state, reward, done, {}\n",
    "    \n",
    "    def reset(self):\n",
    "        \"\"\"This function resets the environment.\n",
    "        \"\"\"\n",
    "        # Defining Initial State\n",
    "        self.state = np.array([0, 0, 0])\n",
    "        \n",
    "        # Returning Initial State\n",
    "        return self.state\n",
    "    "
   ]
  },
  {
   "cell_type": "code",
   "execution_count": 5,
   "metadata": {},
   "outputs": [
    {
     "ename": "NameNotFound",
     "evalue": "Environment Motion_Optimization_of_an_Electric_Vehicle_for_Range_Extension_Environment doesn't exist. ",
     "output_type": "error",
     "traceback": [
      "\u001b[1;31m---------------------------------------------------------------------------\u001b[0m",
      "\u001b[1;31mNameNotFound\u001b[0m                              Traceback (most recent call last)",
      "Cell \u001b[1;32mIn[5], line 1\u001b[0m\n\u001b[1;32m----> 1\u001b[0m env \u001b[39m=\u001b[39m gym\u001b[39m.\u001b[39;49mmake(\u001b[39m'\u001b[39;49m\u001b[39mMotion_Optimization_of_an_Electric_Vehicle_for_Range_Extension_Environment\u001b[39;49m\u001b[39m'\u001b[39;49m)\n\u001b[0;32m      2\u001b[0m env\n",
      "File \u001b[1;32mc:\\Users\\Adastec-Dolunay\\AppData\\Local\\Programs\\Python\\Python310\\lib\\site-packages\\gym\\envs\\registration.py:569\u001b[0m, in \u001b[0;36mmake\u001b[1;34m(id, max_episode_steps, autoreset, apply_api_compatibility, disable_env_checker, **kwargs)\u001b[0m\n\u001b[0;32m    563\u001b[0m         logger\u001b[39m.\u001b[39mwarn(\n\u001b[0;32m    564\u001b[0m             \u001b[39mf\u001b[39m\u001b[39m\"\u001b[39m\u001b[39mUsing the latest versioned environment `\u001b[39m\u001b[39m{\u001b[39;00mnew_env_id\u001b[39m}\u001b[39;00m\u001b[39m` \u001b[39m\u001b[39m\"\u001b[39m\n\u001b[0;32m    565\u001b[0m             \u001b[39mf\u001b[39m\u001b[39m\"\u001b[39m\u001b[39minstead of the unversioned environment `\u001b[39m\u001b[39m{\u001b[39;00m\u001b[39mid\u001b[39m\u001b[39m}\u001b[39;00m\u001b[39m`.\u001b[39m\u001b[39m\"\u001b[39m\n\u001b[0;32m    566\u001b[0m         )\n\u001b[0;32m    568\u001b[0m     \u001b[39mif\u001b[39;00m spec_ \u001b[39mis\u001b[39;00m \u001b[39mNone\u001b[39;00m:\n\u001b[1;32m--> 569\u001b[0m         _check_version_exists(ns, name, version)\n\u001b[0;32m    570\u001b[0m         \u001b[39mraise\u001b[39;00m error\u001b[39m.\u001b[39mError(\u001b[39mf\u001b[39m\u001b[39m\"\u001b[39m\u001b[39mNo registered env with id: \u001b[39m\u001b[39m{\u001b[39;00m\u001b[39mid\u001b[39m\u001b[39m}\u001b[39;00m\u001b[39m\"\u001b[39m)\n\u001b[0;32m    572\u001b[0m _kwargs \u001b[39m=\u001b[39m spec_\u001b[39m.\u001b[39mkwargs\u001b[39m.\u001b[39mcopy()\n",
      "File \u001b[1;32mc:\\Users\\Adastec-Dolunay\\AppData\\Local\\Programs\\Python\\Python310\\lib\\site-packages\\gym\\envs\\registration.py:219\u001b[0m, in \u001b[0;36m_check_version_exists\u001b[1;34m(ns, name, version)\u001b[0m\n\u001b[0;32m    216\u001b[0m \u001b[39mif\u001b[39;00m get_env_id(ns, name, version) \u001b[39min\u001b[39;00m registry:\n\u001b[0;32m    217\u001b[0m     \u001b[39mreturn\u001b[39;00m\n\u001b[1;32m--> 219\u001b[0m _check_name_exists(ns, name)\n\u001b[0;32m    220\u001b[0m \u001b[39mif\u001b[39;00m version \u001b[39mis\u001b[39;00m \u001b[39mNone\u001b[39;00m:\n\u001b[0;32m    221\u001b[0m     \u001b[39mreturn\u001b[39;00m\n",
      "File \u001b[1;32mc:\\Users\\Adastec-Dolunay\\AppData\\Local\\Programs\\Python\\Python310\\lib\\site-packages\\gym\\envs\\registration.py:197\u001b[0m, in \u001b[0;36m_check_name_exists\u001b[1;34m(ns, name)\u001b[0m\n\u001b[0;32m    194\u001b[0m namespace_msg \u001b[39m=\u001b[39m \u001b[39mf\u001b[39m\u001b[39m\"\u001b[39m\u001b[39m in namespace \u001b[39m\u001b[39m{\u001b[39;00mns\u001b[39m}\u001b[39;00m\u001b[39m\"\u001b[39m \u001b[39mif\u001b[39;00m ns \u001b[39melse\u001b[39;00m \u001b[39m\"\u001b[39m\u001b[39m\"\u001b[39m\n\u001b[0;32m    195\u001b[0m suggestion_msg \u001b[39m=\u001b[39m \u001b[39mf\u001b[39m\u001b[39m\"\u001b[39m\u001b[39mDid you mean: `\u001b[39m\u001b[39m{\u001b[39;00msuggestion[\u001b[39m0\u001b[39m]\u001b[39m}\u001b[39;00m\u001b[39m`?\u001b[39m\u001b[39m\"\u001b[39m \u001b[39mif\u001b[39;00m suggestion \u001b[39melse\u001b[39;00m \u001b[39m\"\u001b[39m\u001b[39m\"\u001b[39m\n\u001b[1;32m--> 197\u001b[0m \u001b[39mraise\u001b[39;00m error\u001b[39m.\u001b[39mNameNotFound(\n\u001b[0;32m    198\u001b[0m     \u001b[39mf\u001b[39m\u001b[39m\"\u001b[39m\u001b[39mEnvironment \u001b[39m\u001b[39m{\u001b[39;00mname\u001b[39m}\u001b[39;00m\u001b[39m doesn\u001b[39m\u001b[39m'\u001b[39m\u001b[39mt exist\u001b[39m\u001b[39m{\u001b[39;00mnamespace_msg\u001b[39m}\u001b[39;00m\u001b[39m. \u001b[39m\u001b[39m{\u001b[39;00msuggestion_msg\u001b[39m}\u001b[39;00m\u001b[39m\"\u001b[39m\n\u001b[0;32m    199\u001b[0m )\n",
      "\u001b[1;31mNameNotFound\u001b[0m: Environment Motion_Optimization_of_an_Electric_Vehicle_for_Range_Extension_Environment doesn't exist. "
     ]
    }
   ],
   "source": [
    "env = gym.make('Motion_Optimization_of_an_Electric_Vehicle_for_Range_Extension_Environment')\n",
    "env"
   ]
  }
 ],
 "metadata": {
  "kernelspec": {
   "display_name": "Python 3",
   "language": "python",
   "name": "python3"
  },
  "language_info": {
   "codemirror_mode": {
    "name": "ipython",
    "version": 3
   },
   "file_extension": ".py",
   "mimetype": "text/x-python",
   "name": "python",
   "nbconvert_exporter": "python",
   "pygments_lexer": "ipython3",
   "version": "3.10.10"
  },
  "orig_nbformat": 4
 },
 "nbformat": 4,
 "nbformat_minor": 2
}
