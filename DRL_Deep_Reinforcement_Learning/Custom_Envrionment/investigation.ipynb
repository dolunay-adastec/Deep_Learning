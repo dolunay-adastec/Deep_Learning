{
 "cells": [
  {
   "cell_type": "code",
   "execution_count": 2,
   "metadata": {},
   "outputs": [
    {
     "ename": "AttributeError",
     "evalue": "module 'emobpy' has no attribute 'Vehicle'",
     "output_type": "error",
     "traceback": [
      "\u001b[1;31m---------------------------------------------------------------------------\u001b[0m",
      "\u001b[1;31mAttributeError\u001b[0m                            Traceback (most recent call last)",
      "Cell \u001b[1;32mIn[2], line 3\u001b[0m\n\u001b[0;32m      1\u001b[0m \u001b[39mimport\u001b[39;00m \u001b[39memobpy\u001b[39;00m\n\u001b[0;32m      2\u001b[0m \u001b[39m#road = emobpy.Road(length=10000, gradient=[0.0, 0.04, 0.0, -0.04, 0.0], gradient_length=[2000, 2000, 2000, 2000, 2000])\u001b[39;00m\n\u001b[1;32m----> 3\u001b[0m vehicle \u001b[39m=\u001b[39m emobpy\u001b[39m.\u001b[39;49mVehicle(road\u001b[39m=\u001b[39mroad, mass\u001b[39m=\u001b[39m\u001b[39m2000\u001b[39m, frontal_area\u001b[39m=\u001b[39m\u001b[39m2.5\u001b[39m, drag_coefficient\u001b[39m=\u001b[39m\u001b[39m0.3\u001b[39m, rolling_resistance_coefficient\u001b[39m=\u001b[39m\u001b[39m0.01\u001b[39m, air_density\u001b[39m=\u001b[39m\u001b[39m1.2\u001b[39m, wheel_radius\u001b[39m=\u001b[39m\u001b[39m0.3\u001b[39m)\n\u001b[0;32m      4\u001b[0m vehicle\n",
      "\u001b[1;31mAttributeError\u001b[0m: module 'emobpy' has no attribute 'Vehicle'"
     ]
    }
   ],
   "source": [
    "import emobpy\n",
    "#road = emobpy.Road(length=10000, gradient=[0.0, 0.04, 0.0, -0.04, 0.0], gradient_length=[2000, 2000, 2000, 2000, 2000])\n",
    "vehicle = emobpy.Vehicle(road=road, mass=2000, frontal_area=2.5, drag_coefficient=0.3, rolling_resistance_coefficient=0.01, air_density=1.2, wheel_radius=0.3)\n",
    "vehicle = emobpy."
   ]
  },
  {
   "cell_type": "code",
   "execution_count": 7,
   "metadata": {},
   "outputs": [
    {
     "ename": "SyntaxError",
     "evalue": "invalid syntax (2962870805.py, line 1)",
     "output_type": "error",
     "traceback": [
      "\u001b[1;36m  Cell \u001b[1;32mIn[7], line 1\u001b[1;36m\u001b[0m\n\u001b[1;33m    a = class()\u001b[0m\n\u001b[1;37m        ^\u001b[0m\n\u001b[1;31mSyntaxError\u001b[0m\u001b[1;31m:\u001b[0m invalid syntax\n"
     ]
    }
   ],
   "source": [
    "a = class()\n",
    "a.vehicle.mass = 8000"
   ]
  },
  {
   "cell_type": "code",
   "execution_count": 29,
   "metadata": {},
   "outputs": [],
   "source": [
    "import math\n",
    "\n",
    "def Road_Profiler(gradient, distance):\n",
    "    D = {}\n",
    "    D['gradient'] = gradient\n",
    "    D['degree'] = math.atan(D['gradient']) * 180 / math.pi\n",
    "    D['radian'] = math.atan(D['gradient'])\n",
    "    D['x'] = [i * math.cos(D['radian']) for i in range(distance+1)]\n",
    "    if D['radian'] == 0:\n",
    "        D['y'] = [0] * (distance+1)\n",
    "    else:\n",
    "        D['y'] = [i * math.sin(D['radian']) for i in range(distance+1)]\n",
    "    D['Distance'] = distance\n",
    "    \n",
    "    return D\n",
    "\n",
    "D1 = Road_Profiler(0, 2000)\n",
    "D2 = Road_Profiler(0.04, 2000)\n",
    "D3 = Road_Profiler(0, 2000)\n",
    "D4 = Road_Profiler(-0.04, 2000)\n",
    "D5 = Road_Profiler(0, 2000)\n",
    "#print(D5)\n",
    "\n",
    "def Road_Merger(R):\n",
    "    Road = {'x': [], 'y': [], 'gradients': [], 'Distances': [], 'Total_Distance': 0}\n",
    "\n",
    "    road_count = len(R)\n",
    "    \n",
    "    for i in range(road_count):\n",
    "        if i == 0:\n",
    "            Road['x'].extend(R[i]['x'])\n",
    "            Road['y'].extend(R[i]['y'])\n",
    "        else:\n",
    "            Road['x'].extend([Road['x'][-1] + x for x in R[i]['x'][1:]])\n",
    "            Road['y'].extend([Road['y'][-1] + y for y in R[i]['y'][1:]])\n",
    "        \n",
    "        Road['Distances'].append(R[i]['Distance'])\n",
    "        Road['gradients'].append(R[i]['gradient'])\n",
    "        Road['Total_Distance'] += R[i]['Distance']\n",
    "    \n",
    "    return Road\n",
    "\n",
    "R = [D1, D2, D3, D4, D5]\n",
    "Road = Road_Merger(R)\n",
    "#R[0]['x']\n",
    "Road['y'][4000]"
   ]
  },
  {
   "cell_type": "code",
   "execution_count": 30,
   "metadata": {},
   "outputs": [
    {
     "data": {
      "text/plain": [
       "79.93607669774316"
      ]
     },
     "execution_count": 30,
     "metadata": {},
     "output_type": "execute_result"
    }
   ],
   "source": []
  },
  {
   "cell_type": "code",
   "execution_count": null,
   "metadata": {},
   "outputs": [],
   "source": [
    "# Vehicle Dynamics Formulas\n",
    "# ----------------\n",
    "# Vehicle Specs:\n",
    "# Mass = 2000 kg\n",
    "# Frontal Area = 2.5 m^2\n",
    "# Drag Coefficient = 0.3\n",
    "# Rolling Resistance Coefficient = 0.01\n",
    "# Air Density = 1.2 kg/m^3\n",
    "# Wheel Radius = 0.3 m\n",
    "# Gear Ratio = 10:1\n",
    "# ----------------\n",
    "# Vehicle Dynamics Formulas:\n",
    "# ----------------\n",
    "# Force = Mass * Acceleration\n",
    "# Acceleration = (Force - Drag - Rolling Resistance) / Mass\n",
    "# Drag = 0.5 * Drag Coefficient * Frontal Area * Air Density * Velocity^2\n",
    "# Rolling Resistance = Rolling Resistance Coefficient * Mass * Gravity\n",
    "# Power_Traction    = Force * Velocity\n",
    "# Power_Drag        = Drag * Velocity\n",
    "# Power_Rolling     = Rolling Resistance * Velocity\n",
    "# Power_Net         = (Force - Drag - Rolling Resistance) * Velocity\n",
    "# Power_Net_2       = (Mass * Acceleration) * Velocity\n",
    "# ----------------\n",
    "\n",
    "\n",
    "\n",
    "# Motor RPM to Wheel mps\n",
    "# ----------------\n",
    "# Motor RPM = 5000\n",
    "# Gear Ratio = 10 : 1\n",
    "# Wheel Radius = 0.3 m\n",
    "# ----------------\n",
    "# Wheel mps = (Motor RPM * 2 * pi * Wheel Radius) / (gear_ratio * 60)\n",
    "# Wheel mps = (5000 * 2 * pi * 0.3) / (10 * 60) = 15.707963267948966 mps = 56.62706776421668 kph\n"
   ]
  },
  {
   "cell_type": "code",
   "execution_count": null,
   "metadata": {},
   "outputs": [],
   "source": []
  }
 ],
 "metadata": {
  "kernelspec": {
   "display_name": "Python 3",
   "language": "python",
   "name": "python3"
  },
  "language_info": {
   "codemirror_mode": {
    "name": "ipython",
    "version": 3
   },
   "file_extension": ".py",
   "mimetype": "text/x-python",
   "name": "python",
   "nbconvert_exporter": "python",
   "pygments_lexer": "ipython3",
   "version": "3.10.10"
  },
  "orig_nbformat": 4
 },
 "nbformat": 4,
 "nbformat_minor": 2
}
